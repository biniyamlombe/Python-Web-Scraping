{
 "cells": [
  {
   "cell_type": "code",
   "execution_count": 33,
   "metadata": {},
   "outputs": [],
   "source": [
    "import requests\n",
    "\n",
    "from bs4 import BeautifulSoup as soup\n",
    "import pandas as pd\n",
    "import time"
   ]
  },
  {
   "cell_type": "code",
   "execution_count": 34,
   "metadata": {},
   "outputs": [],
   "source": [
    "header = {'User-Agent': 'Mozilla/5.0 (Windows NT 10.0; WOW64) AppleWebKit/537.36 (KHTML, like Gecko) Chrome/83.0.4103.61 Safari/537.36'}\n"
   ]
  },
  {
   "cell_type": "code",
   "execution_count": 35,
   "metadata": {},
   "outputs": [],
   "source": [
    "# website \n",
    "\n",
    "url = requests.get('https://www.walmart.com/browse/cell-phones/all-apple-iphone/1105910_7551331_1127173_7686411?facet=cell_phone_type%3APrepaid+Phones',headers=header)"
   ]
  },
  {
   "cell_type": "code",
   "execution_count": 36,
   "metadata": {},
   "outputs": [],
   "source": [
    "bsobj = soup(url.content, 'lxml')"
   ]
  },
  {
   "cell_type": "code",
   "execution_count": 37,
   "metadata": {},
   "outputs": [
    {
     "data": {
      "text/plain": [
       "['https://www.walmart.com/browse/cell-phones/all-apple-iphone/1105910_7551331_1127173_7686411?affinityOverride=default&facet=cell_phone_type%3APrepaid+Phones&page=1',\n",
       " 'https://www.walmart.com/browse/cell-phones/all-apple-iphone/1105910_7551331_1127173_7686411?affinityOverride=default&facet=cell_phone_type%3APrepaid+Phones&page=2']"
      ]
     },
     "execution_count": 37,
     "metadata": {},
     "output_type": "execute_result"
    }
   ],
   "source": [
    "\n",
    "\n",
    "#create a url list to scrape data from all pages\n",
    "url_list = []\n",
    "for i in range(1,3):\n",
    "  url_list.append('https://www.walmart.com/browse/cell-phones/all-apple-iphone/1105910_7551331_1127173_7686411?affinityOverride=default&facet=cell_phone_type%3APrepaid+Phones&page=' + str(i))\n",
    "url_list"
   ]
  },
  {
   "cell_type": "code",
   "execution_count": 38,
   "metadata": {},
   "outputs": [],
   "source": [
    "# Empty list to store \n",
    "phone_list = []\n",
    "price_list = []\n",
    "rating_list = []\n"
   ]
  },
  {
   "cell_type": "code",
   "execution_count": 39,
   "metadata": {},
   "outputs": [
    {
     "name": "stdout",
     "output_type": "stream",
     "text": [
      "The phone name is: Straight Talk Apple iPhone 12, 64GB, Black- Prepaid Smartphone [Locked to Straight Talk] \n"
     ]
    }
   ],
   "source": [
    "#Get phone name\n",
    "phone_name = bsobj.find('span', class_='w_iUH7').text\n",
    "print(f'The phone name is: {phone_name}')"
   ]
  },
  {
   "cell_type": "code",
   "execution_count": 40,
   "metadata": {},
   "outputs": [
    {
     "name": "stdout",
     "output_type": "stream",
     "text": [
      "The rating is: 4.4\n"
     ]
    }
   ],
   "source": [
    "# Get rating \n",
    "rating = bsobj.find('span', {'class': 'black inline-flex mr1'})['data-value']\n",
    "print(f'The rating is: {rating}')\n"
   ]
  },
  {
   "cell_type": "code",
   "execution_count": 41,
   "metadata": {},
   "outputs": [
    {
     "name": "stdout",
     "output_type": "stream",
     "text": [
      "The price is: $299\n"
     ]
    }
   ],
   "source": [
    "# Get price\n",
    "product_price = bsobj.find('div', {'data-automation-id': 'product-price'}).find('span', {'class': 'f2'}).text\n",
    "#price = product_price.find('span', {'class': 'f2'}).text\n",
    "print(f\"The price is: ${product_price}\")"
   ]
  },
  {
   "cell_type": "code",
   "execution_count": 42,
   "metadata": {},
   "outputs": [
    {
     "name": "stdout",
     "output_type": "stream",
     "text": [
      "https://www.walmart.com/browse/cell-phones/all-apple-iphone/1105910_7551331_1127173_7686411?affinityOverride=default&facet=cell_phone_type%3APrepaid+Phones&page=1\n"
     ]
    },
    {
     "ename": "AttributeError",
     "evalue": "'str' object has no attribute 'text'",
     "output_type": "error",
     "traceback": [
      "\u001b[1;31m---------------------------------------------------------------------------\u001b[0m",
      "\u001b[1;31mAttributeError\u001b[0m                            Traceback (most recent call last)",
      "\u001b[1;32m<ipython-input-42-b7fff1b8db7a>\u001b[0m in \u001b[0;36m<module>\u001b[1;34m\u001b[0m\n\u001b[0;32m     10\u001b[0m             \u001b[0mphone_list\u001b[0m\u001b[1;33m.\u001b[0m\u001b[0mappend\u001b[0m\u001b[1;33m(\u001b[0m\u001b[1;32mNone\u001b[0m\u001b[1;33m)\u001b[0m\u001b[1;33m\u001b[0m\u001b[1;33m\u001b[0m\u001b[0m\n\u001b[0;32m     11\u001b[0m         \u001b[1;32melse\u001b[0m\u001b[1;33m:\u001b[0m\u001b[1;33m\u001b[0m\u001b[1;33m\u001b[0m\u001b[0m\n\u001b[1;32m---> 12\u001b[1;33m             \u001b[0mphone_list\u001b[0m\u001b[1;33m.\u001b[0m\u001b[0mappend\u001b[0m\u001b[1;33m(\u001b[0m\u001b[0mphone_name\u001b[0m\u001b[1;33m.\u001b[0m\u001b[0mtext\u001b[0m\u001b[1;33m)\u001b[0m \u001b[1;31m# Get the text part\u001b[0m\u001b[1;33m\u001b[0m\u001b[1;33m\u001b[0m\u001b[0m\n\u001b[0m\u001b[0;32m     13\u001b[0m \u001b[1;33m\u001b[0m\u001b[0m\n\u001b[0;32m     14\u001b[0m         \u001b[1;32mif\u001b[0m \u001b[0mproduct_price\u001b[0m \u001b[1;32mis\u001b[0m \u001b[1;32mNone\u001b[0m\u001b[1;33m:\u001b[0m\u001b[1;33m\u001b[0m\u001b[1;33m\u001b[0m\u001b[0m\n",
      "\u001b[1;31mAttributeError\u001b[0m: 'str' object has no attribute 'text'"
     ]
    }
   ],
   "source": [
    "\n",
    "\n",
    "\n",
    "for url in url_list:\n",
    "    print(url)\n",
    "    phone_name = bsobj.find('span', class_='w_iUH7').text\n",
    "    product_price = bsobj.find('div', {'data-automation-id': 'product-price'}).find('span', {'class': 'f2'}).text\n",
    "    rating = bsobj.find('span', {'class': 'black inline-flex mr1'})['data-value']\n",
    "\n",
    "    for name,rate, price in zip(phone_name,product_price,rating):\n",
    "\n",
    "        if phone_name is None:    # Caters for instances where the name does not exist\n",
    "            phone_list.append(None)\n",
    "        else:\n",
    "            phone_list.append(phone_name) # Get the text part\n",
    "\n",
    "        if product_price is None:\n",
    "            price_list.append(None)\n",
    "        else:\n",
    "            price_list.append(product_price)\n",
    "\n",
    "        if rating is None:    # Caters for instances where the rating does not exist - which was causing an error initially\n",
    "            rating_list.append(None)\n",
    "        else:\n",
    "            rating_list.append(rating)\n",
    "\n",
    "print(phone_list)\n",
    "print(price_list)\n",
    "print(rating_list)"
   ]
  },
  {
   "cell_type": "code",
   "execution_count": null,
   "metadata": {},
   "outputs": [
    {
     "data": {
      "text/plain": [
       "<bound method NDFrame.head of                                           Phone Name Price Rating\n",
       "0  Straight Talk Apple iPhone 12, 64GB, Black- Pr...   299    4.4\n",
       "1  Straight Talk Apple iPhone 12, 64GB, Black- Pr...   299    4.4\n",
       "2  Straight Talk Apple iPhone 12, 64GB, Black- Pr...   299    4.4\n",
       "3  Straight Talk Apple iPhone 12, 64GB, Black- Pr...   299    4.4\n",
       "4  Straight Talk Apple iPhone 12, 64GB, Black- Pr...   299    4.4\n",
       "5  Straight Talk Apple iPhone 12, 64GB, Black- Pr...   299    4.4>"
      ]
     },
     "execution_count": 11,
     "metadata": {},
     "output_type": "execute_result"
    }
   ],
   "source": [
    "#Creating a dataframe\n",
    "\n",
    "df = pd.DataFrame({'Phone Name':phone_list, 'Price': price_list, 'Rating': rating_list }, columns=['Phone Name', 'Price', 'Rating'])\n",
    "df.head"
   ]
  }
 ],
 "metadata": {
  "kernelspec": {
   "display_name": "Python 3",
   "language": "python",
   "name": "python3"
  },
  "language_info": {
   "codemirror_mode": {
    "name": "ipython",
    "version": 3
   },
   "file_extension": ".py",
   "mimetype": "text/x-python",
   "name": "python",
   "nbconvert_exporter": "python",
   "pygments_lexer": "ipython3",
   "version": "3.7.3"
  }
 },
 "nbformat": 4,
 "nbformat_minor": 2
}
