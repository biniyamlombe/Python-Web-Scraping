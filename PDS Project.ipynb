{
 "cells": [
  {
   "cell_type": "code",
   "execution_count": 84,
   "metadata": {},
   "outputs": [],
   "source": [
    "import requests\n",
    "\n",
    "from bs4 import BeautifulSoup as soup\n",
    "import pandas as pd\n",
    "import time"
   ]
  },
  {
   "cell_type": "code",
   "execution_count": 85,
   "metadata": {},
   "outputs": [],
   "source": [
    "header = {'User-Agent': 'Mozilla/5.0 (Windows NT 10.0; WOW64) AppleWebKit/537.36 (KHTML, like Gecko) Chrome/83.0.4103.61 Safari/537.36'}\n"
   ]
  },
  {
   "cell_type": "code",
   "execution_count": 86,
   "metadata": {},
   "outputs": [],
   "source": [
    "# website \n",
    "\n",
    "url = requests.get('https://www.walmart.com/browse/cell-phones/all-apple-iphone/1105910_7551331_1127173_7686411?facet=cell_phone_type%3APrepaid+Phones',headers=header)"
   ]
  },
  {
   "cell_type": "code",
   "execution_count": 87,
   "metadata": {},
   "outputs": [],
   "source": [
    "bsobj = soup(url.content, 'lxml')"
   ]
  },
  {
   "cell_type": "code",
   "execution_count": 88,
   "metadata": {},
   "outputs": [
    {
     "data": {
      "text/plain": [
       "['https://www.walmart.com/browse/cell-phones/all-apple-iphone/1105910_7551331_1127173_7686411?affinityOverride=default&facet=cell_phone_type%3APrepaid+Phones&page=1',\n",
       " 'https://www.walmart.com/browse/cell-phones/all-apple-iphone/1105910_7551331_1127173_7686411?affinityOverride=default&facet=cell_phone_type%3APrepaid+Phones&page=2']"
      ]
     },
     "execution_count": 88,
     "metadata": {},
     "output_type": "execute_result"
    }
   ],
   "source": [
    "\n",
    "\n",
    "#create a url list to scrape data from all pages\n",
    "url_list = []\n",
    "for i in range(1,3):\n",
    "  url_list.append('https://www.walmart.com/browse/cell-phones/all-apple-iphone/1105910_7551331_1127173_7686411?affinityOverride=default&facet=cell_phone_type%3APrepaid+Phones&page=' + str(i))\n",
    "url_list"
   ]
  },
  {
   "cell_type": "code",
   "execution_count": 89,
   "metadata": {},
   "outputs": [],
   "source": [
    "# Empty list to store \n",
    "phone_list = []\n",
    "price_list = []\n",
    "rating_list = []\n"
   ]
  },
  {
   "cell_type": "code",
   "execution_count": 90,
   "metadata": {},
   "outputs": [
    {
     "name": "stdout",
     "output_type": "stream",
     "text": [
      "The phone name is: Straight Talk Apple iPhone 12, 64GB, Black- Prepaid Smartphone [Locked to Straight Talk] \n"
     ]
    }
   ],
   "source": [
    "#Get phone name\n",
    "phone_name = bsobj.find('span', class_='w_iUH7').text\n",
    "print(f'The phone name is: {phone_name}')"
   ]
  },
  {
   "cell_type": "code",
   "execution_count": 91,
   "metadata": {},
   "outputs": [
    {
     "name": "stdout",
     "output_type": "stream",
     "text": [
      "The rating is: 4.4\n"
     ]
    }
   ],
   "source": [
    "# Get rating \n",
    "rating = bsobj.find('span', {'class': 'black inline-flex mr1'})['data-value']\n",
    "print(f'The rating is: {rating}')\n"
   ]
  },
  {
   "cell_type": "code",
   "execution_count": 92,
   "metadata": {},
   "outputs": [
    {
     "name": "stdout",
     "output_type": "stream",
     "text": [
      "The price is: $299\n"
     ]
    }
   ],
   "source": [
    "# Get price\n",
    "product_price = bsobj.find('div', {'data-automation-id': 'product-price'}).find('span', {'class': 'f2'}).text\n",
    "#price = product_price.find('span', {'class': 'f2'}).text\n",
    "print(f\"The price is: ${product_price}\")"
   ]
  },
  {
   "cell_type": "code",
   "execution_count": 93,
   "metadata": {},
   "outputs": [
    {
     "name": "stdout",
     "output_type": "stream",
     "text": [
      "https://www.walmart.com/browse/cell-phones/all-apple-iphone/1105910_7551331_1127173_7686411?affinityOverride=default&facet=cell_phone_type%3APrepaid+Phones&page=1\n",
      "https://www.walmart.com/browse/cell-phones/all-apple-iphone/1105910_7551331_1127173_7686411?affinityOverride=default&facet=cell_phone_type%3APrepaid+Phones&page=2\n",
      "['Straight Talk Apple iPhone 12, 64GB, Black- Prepaid Smartphone [Locked to Straight Talk] ', 'Straight Talk Apple iPhone 12, 64GB, Black- Prepaid Smartphone [Locked to Straight Talk] ', 'Straight Talk Apple iPhone 12, 64GB, Black- Prepaid Smartphone [Locked to Straight Talk] ', 'Straight Talk Apple iPhone 12, 64GB, Black- Prepaid Smartphone [Locked to Straight Talk] ', 'Straight Talk Apple iPhone 12, 64GB, Black- Prepaid Smartphone [Locked to Straight Talk] ', 'Straight Talk Apple iPhone 12, 64GB, Black- Prepaid Smartphone [Locked to Straight Talk] ']\n",
      "['299', '299', '299', '299', '299', '299']\n",
      "['4.4', '4.4', '4.4', '4.4', '4.4', '4.4']\n"
     ]
    }
   ],
   "source": [
    "for url in url_list:\n",
    "    print(url)\n",
    "    phone_name = bsobj.find('span', class_='w_iUH7').text\n",
    "    product_price = bsobj.find('div', {'data-automation-id': 'product-price'}).find('span', {'class': 'f2'}).text\n",
    "    rating = bsobj.find('span', {'class': 'black inline-flex mr1'})['data-value']\n",
    "    for name,rate, price in zip(phone_name,product_price,rating):\n",
    "        phone_list.append(phone_name)\n",
    "        price_list.append(product_price)\n",
    "        rating_list.append(rating)\n",
    "\n",
    "print(phone_list)\n",
    "print(price_list)\n",
    "print(rating_list)"
   ]
  },
  {
   "cell_type": "code",
   "execution_count": 94,
   "metadata": {},
   "outputs": [
    {
     "data": {
      "text/plain": [
       "<bound method NDFrame.head of                                           Phone Name Price Rating\n",
       "0  Straight Talk Apple iPhone 12, 64GB, Black- Pr...   299    4.4\n",
       "1  Straight Talk Apple iPhone 12, 64GB, Black- Pr...   299    4.4\n",
       "2  Straight Talk Apple iPhone 12, 64GB, Black- Pr...   299    4.4\n",
       "3  Straight Talk Apple iPhone 12, 64GB, Black- Pr...   299    4.4\n",
       "4  Straight Talk Apple iPhone 12, 64GB, Black- Pr...   299    4.4\n",
       "5  Straight Talk Apple iPhone 12, 64GB, Black- Pr...   299    4.4>"
      ]
     },
     "execution_count": 94,
     "metadata": {},
     "output_type": "execute_result"
    }
   ],
   "source": [
    "#Creating a dataframe\n",
    "\n",
    "df = pd.DataFrame({'Phone Name':phone_list, 'Price': price_list, 'Rating': rating_list }, columns=['Phone Name', 'Price', 'Rating'])\n",
    "df.head"
   ]
  }
 ],
 "metadata": {
  "kernelspec": {
   "display_name": "Python 3",
   "language": "python",
   "name": "python3"
  },
  "language_info": {
   "codemirror_mode": {
    "name": "ipython",
    "version": 3
   },
   "file_extension": ".py",
   "mimetype": "text/x-python",
   "name": "python",
   "nbconvert_exporter": "python",
   "pygments_lexer": "ipython3",
   "version": "3.7.3"
  }
 },
 "nbformat": 4,
 "nbformat_minor": 2
}
